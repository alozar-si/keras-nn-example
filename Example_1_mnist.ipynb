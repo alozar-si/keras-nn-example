{
 "cells": [
  {
   "cell_type": "code",
   "execution_count": 2,
   "metadata": {},
   "outputs": [],
   "source": [
    "#Use mlenv-tf\n",
    "import tensorflow as tf\n",
    "from tensorflow import keras\n",
    "import numpy as np\n",
    "import matplotlib.pyplot as plt"
   ]
  },
  {
   "cell_type": "code",
   "execution_count": 3,
   "metadata": {},
   "outputs": [],
   "source": [
    "# Import dataset\n",
    "fashion_data = keras.datasets.mnist\n",
    "(x_train, y_train) , (x_test, y_test) = fashion_data.load_data()"
   ]
  },
  {
   "cell_type": "code",
   "execution_count": 5,
   "metadata": {},
   "outputs": [
    {
     "name": "stdout",
     "output_type": "stream",
     "text": [
      "size: x_train (60000, 28, 28)\n",
      "size: y_train (60000,)\n",
      "size: x_test (10000, 28, 28)\n",
      "size: y_test (10000,)\n"
     ]
    }
   ],
   "source": [
    "print(\"size: x_train\", x_train.shape)\n",
    "print(\"size: y_train\", y_train.shape)\n",
    "print(\"size: x_test\", x_test.shape)\n",
    "print(\"size: y_test\", y_test.shape)"
   ]
  },
  {
   "cell_type": "code",
   "execution_count": 7,
   "metadata": {},
   "outputs": [],
   "source": [
    "#Normalise dataset\n",
    "x_train = x_train / 255\n",
    "x_test = x_test / 255"
   ]
  },
  {
   "cell_type": "code",
   "execution_count": 13,
   "metadata": {},
   "outputs": [
    {
     "name": "stderr",
     "output_type": "stream",
     "text": [
      "No handles with labels found to put in legend.\n"
     ]
    },
    {
     "name": "stdout",
     "output_type": "stream",
     "text": [
      "This is number: 5\n"
     ]
    },
    {
     "data": {
      "image/png": "[encoded data removed]",
      "text/plain": [
       "<Figure size 540x324 with 1 Axes>"
      ]
     },
     "metadata": {
      "needs_background": "light"
     },
     "output_type": "display_data"
    }
   ],
   "source": [
    "idx = 11\n",
    "plt.figure(figsize=(7.5, 4.5))\n",
    "plt.imshow(x_train[idx])\n",
    "print(\"This is number:\", y_train[idx])\n",
    "plt.legend()\n",
    "plt.show()"
   ]
  },
  {
   "cell_type": "code",
   "execution_count": 14,
   "metadata": {},
   "outputs": [
    {
     "name": "stdout",
     "output_type": "stream",
     "text": [
      "[]\n"
     ]
    }
   ],
   "source": [
    "from tensorflow.python.client import device_lib\n",
    "\n",
    "def get_available_gpus():\n",
    "    local_device_protos = device_lib.list_local_devices()\n",
    "    return [x.name for x in local_device_protos if x.device_type == 'GPU']\n",
    "\n",
    "print(get_available_gpus())"
   ]
  },
  {
   "cell_type": "code",
   "execution_count": 20,
   "metadata": {},
   "outputs": [],
   "source": [
    "from tensorflow.keras import Sequential\n",
    "from tensorflow.keras.layers import Dense, Flatten\n",
    "from tensorflow.keras import initializers"
   ]
  },
  {
   "cell_type": "code",
   "execution_count": 28,
   "metadata": {},
   "outputs": [],
   "source": [
    "# Create model\n",
    "def create_model():\n",
    "    model = Sequential() # naredimo model/ NN\n",
    "    model.add(Flatten(input_shape=(28,28)))\n",
    "    # prva skrita plast: 400 nevronov, 400 izhodnih nevronov, normalna porazdelitev uteži\n",
    "    model.add(Dense(units=28*28, \n",
    "                    activation='relu', \n",
    "                    input_shape=(28*28,), \n",
    "                    kernel_initializer=initializers.RandomNormal(stddev=0.01)))\n",
    "\n",
    "    #dodamo še ostale skrite plasti\n",
    "    model.add(Dense(100, activation='relu'))\n",
    "    model.add(Dense(50, activation='relu'))\n",
    "    model.add(Dense(10, activation='relu'))\n",
    "    model.add(Dense(5, activation='relu'))\n",
    "\n",
    "    #Zadnja plast je izhodna . ker iščemo skalar, vsebuje samo en nevron\n",
    "    model.add(Dense(10, activation='softmax'))\n",
    "    return model"
   ]
  },
  {
   "cell_type": "code",
   "execution_count": 31,
   "metadata": {},
   "outputs": [
    {
     "name": "stdout",
     "output_type": "stream",
     "text": [
      "Epoch 1/50\n",
      "160/160 - 2s - loss: 1.1317 - accuracy: 0.6318 - val_loss: 0.6425 - val_accuracy: 0.8921\n",
      "Epoch 2/50\n",
      "160/160 - 2s - loss: 0.5216 - accuracy: 0.9162 - val_loss: 0.4410 - val_accuracy: 0.9304\n",
      "Epoch 3/50\n",
      "160/160 - 2s - loss: 0.3685 - accuracy: 0.9467 - val_loss: 0.3467 - val_accuracy: 0.9508\n",
      "Epoch 4/50\n",
      "160/160 - 2s - loss: 0.2562 - accuracy: 0.9604 - val_loss: 0.1851 - val_accuracy: 0.9587\n",
      "Epoch 5/50\n",
      "160/160 - 2s - loss: 0.1181 - accuracy: 0.9703 - val_loss: 0.1578 - val_accuracy: 0.9643\n",
      "Epoch 6/50\n",
      "160/160 - 2s - loss: 0.0831 - accuracy: 0.9783 - val_loss: 0.1473 - val_accuracy: 0.9652\n",
      "Epoch 7/50\n",
      "160/160 - 2s - loss: 0.0630 - accuracy: 0.9831 - val_loss: 0.1443 - val_accuracy: 0.9672\n",
      "Epoch 8/50\n",
      "160/160 - 2s - loss: 0.0452 - accuracy: 0.9881 - val_loss: 0.1488 - val_accuracy: 0.9663\n",
      "Epoch 9/50\n"
     ]
    }
   ],
   "source": [
    "#zgradimo nevronsko mrežo\n",
    "# pri tem določimo vrsto otimizatorja, funkcijo izgube ter potencialne ostale mere uspešnosti\n",
    "mymodel = create_model()\n",
    "mymodel.compile(optimizer='adam', loss='sparse_categorical_crossentropy', metrics=['accuracy'])\n",
    "\n",
    "# za trening nevronski mreži podamo vhodne in izhodne podatke\n",
    "# določilo število epoh in velikost batchev\n",
    "# za razdelitev na učni in validacijski set lahko uporabimo validation_split\n",
    "#lahko tudi sami specificiramo validacijski set z validation_data\n",
    "# shuffle: če zmeša trening podatke pred opoho\n",
    "history = mymodel.fit(x_train, y_train, epochs=50, batch_size=300, validation_split=0.2, shuffle=True, verbose=2)"
   ]
  },
  {
   "cell_type": "code",
   "execution_count": 23,
   "metadata": {},
   "outputs": [],
   "source": [
    "#history.history.keys()\n",
    "# Compute moving average\n",
    "def moving_average(a, n=3) :\n",
    "    idx = np.cumsum(np.arange(len(a)),dtype=float)\n",
    "    idx[n:] = idx[n:] - idx[:-n]\n",
    "    res = np.cumsum(a, dtype=float)\n",
    "    res[n:] = res[n:] - res[:-n]\n",
    "    return idx[n - 1:] / n, res[n - 1:] / n"
   ]
  },
  {
   "cell_type": "code",
   "execution_count": 27,
   "metadata": {},
   "outputs": [
    {
     "data": {
      "image/png": "[encoded data removed]",
      "text/plain": [
       "<Figure size 540x324 with 1 Axes>"
      ]
     },
     "metadata": {
      "needs_background": "light"
     },
     "output_type": "display_data"
    }
   ],
   "source": [
    "plt.figure(figsize=(7.5, 4.5))\n",
    "plt.plot(history.history['loss'], label='train',alpha=0.2)\n",
    "plt.plot(moving_average(history.history['loss'], 10)[1], label='train, ma=40')\n",
    "plt.plot(history.history['val_loss'], label='val')\n",
    "plt.plot(moving_average(history.history['val_loss'], 10)[1], label='val, ma=40')\n",
    "plt.xlabel('epoch')\n",
    "plt.ylabel('Loss')\n",
    "plt.legend()\n",
    "plt.tight_layout()\n",
    "#plt.ylim([0, 0.005])\n",
    "#plt.yscale('log')\n",
    "plt.show()"
   ]
  },
  {
   "cell_type": "code",
   "execution_count": null,
   "metadata": {},
   "outputs": [],
   "source": []
  }
 ],
 "metadata": {
  "kernelspec": {
   "display_name": "Python 3.8.5 ('mlenv-tf')",
   "language": "python",
   "name": "python3"
  },
  "language_info": {
   "codemirror_mode": {
    "name": "ipython",
    "version": 3
   },
   "file_extension": ".py",
   "mimetype": "text/x-python",
   "name": "python",
   "nbconvert_exporter": "python",
   "pygments_lexer": "ipython3",
   "version": "3.8.5"
  },
  "orig_nbformat": 4,
  "vscode": {
   "interpreter": {
    "hash": "adf1699567107ec7f3afaf63a6adc8b2f71070f6775302dcbd0801e8fd959e33"
   }
  }
 },
 "nbformat": 4,
 "nbformat_minor": 2
}
